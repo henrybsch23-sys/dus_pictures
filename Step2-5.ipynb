{
 "cells": [
  {
   "cell_type": "code",
   "execution_count": null,
   "id": "8aaa6e39",
   "metadata": {},
   "outputs": [],
   "source": [
    "# Global imports\n",
    "import numpy as np\n",
    "import pandas as pd\n",
    "import cv2\n",
    "from pathlib import Path\n",
    "from PIL import Image, ImageOps\n",
    "import matplotlib.pyplot as plt"
   ]
  },
  {
   "cell_type": "markdown",
   "id": "7504d67c",
   "metadata": {},
   "source": [
    "# Step2: Extract the picture"
   ]
  },
  {
   "cell_type": "code",
   "execution_count": null,
   "id": "52ba6428",
   "metadata": {},
   "outputs": [
    {
     "name": "stdout",
     "output_type": "stream",
     "text": [
      "✅ Cropped region saved as pic_4_crop.png\n",
      "ROI used: (108, 667) → (1186, 894)\n",
      "Output size: 1078x227\n"
     ]
    },
    {
     "data": {
      "image/png": "[encoded data removed]",
      "text/plain": [
       "<Figure size 640x480 with 1 Axes>"
      ]
     },
     "metadata": {},
     "output_type": "display_data"
    }
   ],
   "source": [
    "ROOT_NAME = \"pic_4\"\n",
    "in_path = Path(f\"{ROOT_NAME}.jpg\")      # input image filename\n",
    "out_path = Path(f\"{ROOT_NAME}_crop.png\") # output file\n",
    "ROI = {'x0': 108, 'y0': 667, 'x1': 1186, 'y1': 894}  # <— adjust here when needed\n",
    "# ======================\n",
    "\n",
    "if not in_path.exists():\n",
    "    raise FileNotFoundError(f\"Input image not found: {in_path}\")\n",
    "\n",
    "# Open and auto-rotate according to EXIF\n",
    "img = Image.open(in_path)\n",
    "img = ImageOps.exif_transpose(img)\n",
    "\n",
    "# Clamp ROI to image bounds\n",
    "w, h = img.size\n",
    "x0 = max(0, min(ROI['x0'], w))\n",
    "x1 = max(0, min(ROI['x1'], w))\n",
    "y0 = max(0, min(ROI['y0'], h))\n",
    "y1 = max(0, min(ROI['y1'], h))\n",
    "if x1 <= x0 or y1 <= y0:\n",
    "    raise ValueError(f\"Invalid ROI after clamping: {ROI}\")\n",
    "\n",
    "# Crop and save\n",
    "cropped = img.crop((x0, y0, x1, y1))\n",
    "cropped.save(out_path, format=\"PNG\")\n",
    "\n",
    "print(f\"✅ Cropped region saved as {out_path}\")\n",
    "print(f\"ROI used: ({x0}, {y0}) → ({x1}, {y1})\")\n",
    "print(f\"Output size: {cropped.size[0]}x{cropped.size[1]}\")\n",
    "\n",
    "plt.imshow(cropped)\n",
    "plt.axis(\"off\")\n",
    "plt.title(\"Cropped ROI Preview\")\n",
    "plt.show()"
   ]
  },
  {
   "cell_type": "markdown",
   "id": "1bd28f2e",
   "metadata": {},
   "source": [
    "# Step 3: Extract lines"
   ]
  },
  {
   "cell_type": "code",
   "execution_count": null,
   "id": "c4020d47",
   "metadata": {},
   "outputs": [
    {
     "name": "stdout",
     "output_type": "stream",
     "text": [
      "✅ Extraction complete:\n",
      " - Combined lines:  pic_4_lines.png\n"
     ]
    },
    {
     "name": "stderr",
     "output_type": "stream",
     "text": [
      "C:\\Users\\Henry\\AppData\\Local\\Temp\\ipykernel_13800\\2575484668.py:70: DeprecationWarning: 'mode' parameter is deprecated and will be removed in Pillow 13 (2026-10-15)\n",
      "  Image.fromarray(combined, \"RGBA\").save(OUT_COMBINED)\n"
     ]
    },
    {
     "data": {
      "image/png": "[encoded data removed]",
      "text/plain": [
       "<Figure size 640x480 with 1 Axes>"
      ]
     },
     "metadata": {},
     "output_type": "display_data"
    }
   ],
   "source": [
    "# imports are in the first cell\n",
    "\n",
    "# === CONFIG ===\n",
    "IN_PATH = out_path        # your image\n",
    "#OUT_YELLOW = Path(\"yellow_line.png\")\n",
    "#OUT_WHITE = Path(\"white_line.png\")\n",
    "OUT_COMBINED = Path(f\"{ROOT_NAME}_lines.png\")\n",
    "\n",
    "# Color thresholds (HSV)\n",
    "LOWER_YELLOW = (15, 80, 80)            # yellow/gold tone\n",
    "UPPER_YELLOW = (45, 255, 255)\n",
    "WHITE_THRESH = 180                     # brightness threshold\n",
    "# ==============\n",
    "\n",
    "# 1️⃣ Load image\n",
    "bgr = cv2.imread(str(IN_PATH), cv2.IMREAD_COLOR)\n",
    "if bgr is None:\n",
    "    raise FileNotFoundError(f\"Could not read {IN_PATH}\")\n",
    "h, w = bgr.shape[:2]\n",
    "\n",
    "# Convert color spaces\n",
    "hsv = cv2.cvtColor(bgr, cv2.COLOR_BGR2HSV)\n",
    "gray = cv2.cvtColor(bgr, cv2.COLOR_BGR2GRAY)\n",
    "\n",
    "# 2️⃣ Detect yellow waveform\n",
    "mask_yellow = cv2.inRange(hsv, np.array(LOWER_YELLOW), np.array(UPPER_YELLOW))\n",
    "mask_yellow = cv2.morphologyEx(mask_yellow, cv2.MORPH_CLOSE, np.ones((3, 3), np.uint8), iterations=1)\n",
    "\n",
    "# 3️⃣ Detect white baseline\n",
    "_, mask_white = cv2.threshold(gray, WHITE_THRESH, 255, cv2.THRESH_BINARY)\n",
    "horizontal = cv2.morphologyEx(mask_white, cv2.MORPH_OPEN,\n",
    "                              cv2.getStructuringElement(cv2.MORPH_RECT, (50, 1)))\n",
    "mask_white = cv2.bitwise_and(mask_white, horizontal)\n",
    "\n",
    "# Keep the longest horizontal contour (the baseline)\n",
    "contours, _ = cv2.findContours(mask_white, cv2.RETR_EXTERNAL, cv2.CHAIN_APPROX_SIMPLE)\n",
    "if contours:\n",
    "    biggest = max(contours, key=cv2.contourArea)\n",
    "    mask_white = np.zeros_like(mask_white)\n",
    "    cv2.drawContours(mask_white, [biggest], -1, 255, thickness=cv2.FILLED)\n",
    "\n",
    "# 4️⃣ Convert to RGBA layers\n",
    "rgba_yellow = np.zeros((h, w, 4), dtype=np.uint8)\n",
    "rgba_white = np.zeros((h, w, 4), dtype=np.uint8)\n",
    "\n",
    "# Yellow: keep color where mask is set\n",
    "idx_y = mask_yellow > 0\n",
    "rgba_yellow[idx_y, :3] = bgr[idx_y][:, ::-1]  # BGR→RGB\n",
    "rgba_yellow[idx_y, 3] = 255\n",
    "\n",
    "# White line: pure white, opaque where mask is set\n",
    "rgba_white[idx_y, :] = [255, 255, 255, 0]     # start clean\n",
    "idx_w = mask_white > 0\n",
    "rgba_white[idx_w, :3] = [255, 255, 255]\n",
    "rgba_white[idx_w, 3] = 255\n",
    "\n",
    "# 5️⃣ Combine both\n",
    "combined = np.zeros_like(rgba_white)\n",
    "combined[..., :3] = np.clip(\n",
    "    rgba_yellow[..., :3].astype(np.uint16) + rgba_white[..., :3].astype(np.uint16), 0, 255\n",
    ").astype(np.uint8)\n",
    "combined[..., 3] = np.maximum(rgba_yellow[..., 3], rgba_white[..., 3])\n",
    "\n",
    "# 6️⃣ Save results\n",
    "#Image.fromarray(rgba_yellow, \"RGBA\").save(OUT_YELLOW)\n",
    "#Image.fromarray(rgba_white, \"RGBA\").save(OUT_WHITE)\n",
    "Image.fromarray(combined, \"RGBA\").save(OUT_COMBINED)\n",
    "\n",
    "print(\"✅ Extraction complete:\")\n",
    "#print(f\" - Yellow waveform: {OUT_YELLOW}\")\n",
    "#print(f\" - White baseline:  {OUT_WHITE}\")\n",
    "print(f\" - Combined lines:  {OUT_COMBINED}\")\n",
    "\n",
    "import matplotlib.pyplot as plt\n",
    "\n",
    "plt.imshow(combined)\n",
    "plt.axis(\"off\")\n",
    "plt.title(\"Combined yellow + white lines\")\n",
    "plt.show()\n"
   ]
  },
  {
   "cell_type": "markdown",
   "id": "67fb7d27",
   "metadata": {},
   "source": [
    "# Step 4: Convert to csv"
   ]
  },
  {
   "cell_type": "code",
   "execution_count": null,
   "id": "80062ad1",
   "metadata": {},
   "outputs": [
    {
     "name": "stdout",
     "output_type": "stream",
     "text": [
      "✅ Saved: pic_4_lines.csv  (rows=1078)\n",
      "Baseline row: 170, px_per_cms: 2.1053, peak_pix: 96.00\n"
     ]
    }
   ],
   "source": [
    "from pathlib import Path\n",
    "import numpy as np\n",
    "import cv2\n",
    "import pandas as pd\n",
    "\n",
    "# --- CONFIG ---\n",
    "IMG_PATH = OUT_COMBINED  # white baseline + white waveform on transparent bg\n",
    "DURATION_SEC = 6.0                     # total time span (seconds)\n",
    "V_PEAK = 45.6                           # tallest peak (cm/s)\n",
    "BASELINE_BAND = 3                      # pixels to remove above/below baseline\n",
    "PERCENTILE_FOR_PEAK = 99.0             # robust peak percentile\n",
    "# -------------\n",
    "\n",
    "# 1) Load image (prefer RGBA so we can use alpha)\n",
    "rgba = cv2.imread(str(IMG_PATH), cv2.IMREAD_UNCHANGED)\n",
    "if rgba is None:\n",
    "    raise FileNotFoundError(IMG_PATH)\n",
    "\n",
    "h, w = rgba.shape[:2]\n",
    "\n",
    "if rgba.shape[2] == 4:\n",
    "    bgr = rgba[..., :3]\n",
    "    alpha = rgba[..., 3]\n",
    "    # Binary mask of where the lines exist (wave + baseline)\n",
    "    mask_all = (alpha > 0).astype(np.uint8) * 255\n",
    "else:\n",
    "    bgr = rgba\n",
    "    gray = cv2.cvtColor(bgr, cv2.COLOR_BGR2GRAY)\n",
    "    # Fallback: threshold bright pixels (may need tuning if no alpha)\n",
    "    mask_all = cv2.threshold(gray, 200, 255, cv2.THRESH_BINARY)[1]\n",
    "\n",
    "# 2) Detect baseline row as the row with the most \"on\" pixels\n",
    "row_counts = mask_all.sum(axis=1)  # count per row (0..255 sums)\n",
    "y_base = int(np.argmax(row_counts))\n",
    "\n",
    "# 3) Build waveform mask (remove a horizontal band around the baseline)\n",
    "mask_wave = mask_all.copy()\n",
    "y0 = max(0, y_base - BASELINE_BAND)\n",
    "y1 = min(h, y_base + BASELINE_BAND + 1)\n",
    "mask_wave[y0:y1, :] = 0  # remove baseline & its halo\n",
    "\n",
    "# Optional cleanup: tiny gaps fill, small specks remove\n",
    "mask_wave = cv2.morphologyEx(mask_wave, cv2.MORPH_CLOSE, np.ones((3,3), np.uint8), iterations=1)\n",
    "\n",
    "# 4) For each column, find the first line pixel when scanning upward from the baseline\n",
    "y_vals = np.full(w, np.nan, dtype=float)  # y index of waveform for each x\n",
    "for x in range(w):\n",
    "    col = mask_wave[:y_base, x]  # only above baseline\n",
    "    # Scan downward (from y_base-1 up)\n",
    "    ys = np.where(col > 0)[0]\n",
    "    if ys.size:\n",
    "        # pick the one closest to baseline: the largest y index\n",
    "        y_vals[x] = ys.max()\n",
    "\n",
    "# Pixel displacement above baseline (positive upward)\n",
    "pix_disp = np.where(np.isfinite(y_vals), y_base - y_vals, np.nan)\n",
    "\n",
    "# Sanity check: if still too flat, increase BASELINE_BAND or refine mask\n",
    "valid = np.isfinite(pix_disp)\n",
    "if not valid.any():\n",
    "    raise RuntimeError(\"No waveform detected; adjust thresholds.\")\n",
    "\n",
    "# ▶ Re-zero the baseline using a small percentile (robust against outliers)\n",
    "BASELINE_PERCENTILE = 1.0  # try 0.5–2.0 depending on your images\n",
    "baseline_offset_pix = np.nanpercentile(pix_disp[valid], BASELINE_PERCENTILE)\n",
    "# Remove baseline bias and clamp negatives\n",
    "pix_disp = np.maximum(0.0, pix_disp - baseline_offset_pix)\n",
    "\n",
    "# Continue as before with scaling\n",
    "peak_pix = np.nanpercentile(pix_disp[valid], 99.0) or np.nanmax(pix_disp[valid])\n",
    "px_per_cms = peak_pix / V_PEAK\n",
    "velocity = pix_disp / (px_per_cms if px_per_cms != 0 else 1.0)\n",
    "\n",
    "# Interpolate NaNs linearly, clamp negatives to 0\n",
    "v = velocity.copy()\n",
    "idx = np.where(np.isfinite(v))[0]\n",
    "if idx.size >= 2:\n",
    "    v_interp = v.copy()\n",
    "    v_interp[:idx[0]] = v[idx[0]]\n",
    "    v_interp[idx[-1] + 1:] = v[idx[-1]]\n",
    "    for a, b in zip(idx[:-1], idx[1:]):\n",
    "        if b - a > 1:\n",
    "            m = (v[b] - v[a]) / (b - a)\n",
    "            v_interp[a+1:b] = v[a] + m * (np.arange(a+1, b) - a)\n",
    "    velocity = v_interp\n",
    "velocity = np.where(velocity < 0, 0.0, velocity)\n",
    "\n",
    "# 6) Time axis and CSV\n",
    "time_s = (np.arange(w) / max(1, (w - 1))) * DURATION_SEC\n",
    "df = pd.DataFrame({\n",
    "    \"x_px\": np.arange(w, dtype=int),\n",
    "    \"y_px\": y_vals,                 # y-index of the waveform\n",
    "    \"time_s\": time_s,               # seconds\n",
    "    \"velocity_cm_s\": velocity       # cm/s above baseline\n",
    "})\n",
    "out_csv = IMG_PATH.with_suffix(\".csv\")\n",
    "df.to_csv(out_csv, index=False)\n",
    "print(f\"✅ Saved: {out_csv}  (rows={len(df)})\")\n",
    "print(f\"Baseline row: {y_base}, px_per_cms: {px_per_cms:.4f}, peak_pix: {peak_pix:.2f}\")\n",
    "\n",
    "\n"
   ]
  },
  {
   "cell_type": "markdown",
   "id": "8fd08ece",
   "metadata": {},
   "source": [
    "# Step 5: Plotting the csv points"
   ]
  },
  {
   "cell_type": "code",
   "execution_count": null,
   "id": "2eeb53e6",
   "metadata": {},
   "outputs": [
    {
     "name": "stdout",
     "output_type": "stream",
     "text": [
      "✅ Loaded pic_4_lines.csv with 1078 rows and columns: ['x_px', 'y_px', 'time_s', 'velocity_cm_s']\n"
     ]
    },
    {
     "data": {
      "image/png": "[encoded data removed]",
      "text/plain": [
       "<Figure size 1000x400 with 1 Axes>"
      ]
     },
     "metadata": {},
     "output_type": "display_data"
    },
    {
     "name": "stdout",
     "output_type": "stream",
     "text": [
      "📊 Plot saved as C:\\Users\\Henry\\Documents\\MMS\\Nelida\\dus_pictures\\pic_4_plot.png\n"
     ]
    }
   ],
   "source": [
    "# imports are in the first cell\n",
    "\n",
    "# === CONFIG ===\n",
    "CSV_PATH = Path(out_csv)  # your CSV file\n",
    "OUT_PLOT = Path(f\"{ROOT_NAME}_plot.png\")        # output image file\n",
    "# ==============\n",
    "\n",
    "# 1) Load CSV\n",
    "df = pd.read_csv(CSV_PATH)\n",
    "print(f\"✅ Loaded {CSV_PATH} with {len(df)} rows and columns: {list(df.columns)}\")\n",
    "\n",
    "# 2) Determine what to plot\n",
    "if {\"time_s\", \"velocity_cm_s\"}.issubset(df.columns):\n",
    "    x = df[\"time_s\"]\n",
    "    y = df[\"velocity_cm_s\"]\n",
    "    xlabel, ylabel = \"Time (s)\", \"Velocity (cm/s)\"\n",
    "elif len(df.columns) >= 2:\n",
    "    # fallback: first two numeric columns\n",
    "    numeric_cols = df.select_dtypes(include=[\"number\"]).columns\n",
    "    if len(numeric_cols) < 2:\n",
    "        raise ValueError(\"No numeric columns to plot.\")\n",
    "    x, y = df[numeric_cols[0]], df[numeric_cols[1]]\n",
    "    xlabel, ylabel = numeric_cols[0], numeric_cols[1]\n",
    "else:\n",
    "    raise ValueError(\"CSV missing numeric data to plot.\")\n",
    "\n",
    "# 3) Plot\n",
    "plt.figure(figsize=(10, 4))\n",
    "plt.plot(x, y, color=\"dodgerblue\", linewidth=2)\n",
    "plt.title(\"Waveform Time Series\")\n",
    "plt.xlabel(xlabel)\n",
    "plt.ylabel(ylabel)\n",
    "plt.grid(True, alpha=0.35)\n",
    "plt.tight_layout()\n",
    "plt.savefig(OUT_PLOT, dpi=150)\n",
    "plt.show()\n",
    "\n",
    "print(f\"📊 Plot saved as {OUT_PLOT.resolve()}\")\n"
   ]
  }
 ],
 "metadata": {
  "kernelspec": {
   "display_name": "dus",
   "language": "python",
   "name": "python3"
  },
  "language_info": {
   "codemirror_mode": {
    "name": "ipython",
    "version": 3
   },
   "file_extension": ".py",
   "mimetype": "text/x-python",
   "name": "python",
   "nbconvert_exporter": "python",
   "pygments_lexer": "ipython3",
   "version": "3.13.7"
  }
 },
 "nbformat": 4,
 "nbformat_minor": 5
}
